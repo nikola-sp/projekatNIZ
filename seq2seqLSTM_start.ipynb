{
 "cells": [
  {
   "cell_type": "code",
   "execution_count": 78,
   "metadata": {
    "collapsed": false
   },
   "outputs": [],
   "source": [
    "import numpy as np\n",
    "import sys\n",
    "import argparse\n",
    "from seq2seqLSTM import translate\n",
    "from seq2seqLSTM import learning\n",
    "from seq2seqLSTM import save_model\n"
   ]
  },
  {
   "cell_type": "code",
   "execution_count": 80,
   "metadata": {
    "collapsed": false,
    "scrolled": true
   },
   "outputs": [
    {
     "name": "stdout",
     "output_type": "stream",
     "text": [
      "Reading input\n"
     ]
    },
    {
     "name": "stderr",
     "output_type": "stream",
     "text": [
      "usage: __main__.py [-h] {translate,t,learn,l} ...\n",
      "__main__.py: error: invalid choice: '/run/user/1000/jupyter/kernel-9fcf2985-1fad-4721-8791-bb492a00e6ba.json' (choose from 'translate', 't', 'learn', 'l')\n"
     ]
    },
    {
     "ename": "SystemExit",
     "evalue": "2",
     "output_type": "error",
     "traceback": [
      "An exception has occurred, use %tb to see the full traceback.\n",
      "\u001b[0;31mSystemExit\u001b[0m\u001b[0;31m:\u001b[0m 2\n"
     ]
    },
    {
     "name": "stderr",
     "output_type": "stream",
     "text": [
      "/home/nikolas/anaconda3/lib/python3.6/site-packages/IPython/core/interactiveshell.py:2889: UserWarning: To exit: use 'exit', 'quit', or Ctrl-D.\n",
      "  warn(\"To exit: use 'exit', 'quit', or Ctrl-D.\", stacklevel=1)\n"
     ]
    }
   ],
   "source": [
    "parser = argparse.ArgumentParser(description='Enlish to French translator.')\n",
    "subparsers = parser.add_subparsers()\n",
    "translate = subparsers.add_parser('translate', aliases=['t'])\n",
    "translate.add_argument('text', help='English text file')\n",
    "translate.add_argument('model', help='JSON file with trained network')\n",
    "translate.set_defaults(which='translate')\n",
    "\n",
    "learn = subparsers.add_parser('learn', aliases=['l'])\n",
    "learn.add_argument('X', help='learning input (English)')\n",
    "learn.add_argument('Y', help='learning output (French)')\n",
    "learn.add_argument('-vs', '--vocab_size', help='vocabulary size (default=0 if vocab.txt should stay unchanged)', type=int, default=0)\n",
    "learn.add_argument('-lcn', '--layer_cell_number', help='number of cells in a layer', type=int, default=1000)\n",
    "learn.set_defaults(which='learn')\n",
    "\n",
    "print(\"Reading input\")\n",
    "args=vars(parser.parse_args())\n",
    "\n",
    "if args['which'] == 'translate':\n",
    "    translate(args['text'], args['model'])\n",
    "else:\n",
    "    print(\"Learning - train & test\")\n",
    "    model=learning(args['X'], args['Y'], args['vocab_size'], args['layer_cell_number'])\n",
    "    print(\"Saving model\")\n",
    "    save_model(model)\n"
   ]
  }
 ],
 "metadata": {
  "kernelspec": {
   "display_name": "Python 3",
   "language": "python",
   "name": "python3"
  },
  "language_info": {
   "codemirror_mode": {
    "name": "ipython",
    "version": 3
   },
   "file_extension": ".py",
   "mimetype": "text/x-python",
   "name": "python",
   "nbconvert_exporter": "python",
   "pygments_lexer": "ipython3",
   "version": "3.6.0"
  }
 },
 "nbformat": 4,
 "nbformat_minor": 2
}
