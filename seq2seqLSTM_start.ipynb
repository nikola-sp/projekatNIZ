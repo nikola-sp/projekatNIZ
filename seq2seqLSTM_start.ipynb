{
 "cells": [
  {
   "cell_type": "code",
   "execution_count": 3,
   "metadata": {
    "collapsed": true
   },
   "outputs": [],
   "source": [
    "import numpy as np\n",
    "import sys\n",
    "import argparse\n",
    "from seq2seqLSTM import translate\n",
    "from seq2seqLSTM import learning\n",
    "from seq2seqLSTM import save_model\n"
   ]
  },
  {
   "cell_type": "code",
   "execution_count": 1,
   "metadata": {
    "scrolled": true
   },
   "outputs": [
    {
     "ename": "NameError",
     "evalue": "name 'argparse' is not defined",
     "output_type": "error",
     "traceback": [
      "\u001b[0;31m---------------------------------------------------------------------------\u001b[0m",
      "\u001b[0;31mNameError\u001b[0m                                 Traceback (most recent call last)",
      "\u001b[0;32m<ipython-input-1-a18a083fd098>\u001b[0m in \u001b[0;36m<module>\u001b[0;34m()\u001b[0m\n\u001b[0;32m----> 1\u001b[0;31m \u001b[0mparser\u001b[0m \u001b[0;34m=\u001b[0m \u001b[0margparse\u001b[0m\u001b[0;34m.\u001b[0m\u001b[0mArgumentParser\u001b[0m\u001b[0;34m(\u001b[0m\u001b[0mdescription\u001b[0m\u001b[0;34m=\u001b[0m\u001b[0;34m'Enlish to French translator.'\u001b[0m\u001b[0;34m)\u001b[0m\u001b[0;34m\u001b[0m\u001b[0m\n\u001b[0m\u001b[1;32m      2\u001b[0m \u001b[0msubparsers\u001b[0m \u001b[0;34m=\u001b[0m \u001b[0mparser\u001b[0m\u001b[0;34m.\u001b[0m\u001b[0madd_subparsers\u001b[0m\u001b[0;34m(\u001b[0m\u001b[0;34m)\u001b[0m\u001b[0;34m\u001b[0m\u001b[0m\n\u001b[1;32m      3\u001b[0m \u001b[0mtranslate\u001b[0m \u001b[0;34m=\u001b[0m \u001b[0msubparsers\u001b[0m\u001b[0;34m.\u001b[0m\u001b[0madd_parser\u001b[0m\u001b[0;34m(\u001b[0m\u001b[0;34m'translate'\u001b[0m\u001b[0;34m,\u001b[0m \u001b[0maliases\u001b[0m\u001b[0;34m=\u001b[0m\u001b[0;34m[\u001b[0m\u001b[0;34m't'\u001b[0m\u001b[0;34m]\u001b[0m\u001b[0;34m)\u001b[0m\u001b[0;34m\u001b[0m\u001b[0m\n\u001b[1;32m      4\u001b[0m \u001b[0mtranslate\u001b[0m\u001b[0;34m.\u001b[0m\u001b[0madd_argument\u001b[0m\u001b[0;34m(\u001b[0m\u001b[0;34m'text'\u001b[0m\u001b[0;34m,\u001b[0m \u001b[0mhelp\u001b[0m\u001b[0;34m=\u001b[0m\u001b[0;34m'English text file'\u001b[0m\u001b[0;34m)\u001b[0m\u001b[0;34m\u001b[0m\u001b[0m\n\u001b[1;32m      5\u001b[0m \u001b[0mtranslate\u001b[0m\u001b[0;34m.\u001b[0m\u001b[0mset_defaults\u001b[0m\u001b[0;34m(\u001b[0m\u001b[0mwhich\u001b[0m\u001b[0;34m=\u001b[0m\u001b[0;34m'translate'\u001b[0m\u001b[0;34m)\u001b[0m\u001b[0;34m\u001b[0m\u001b[0m\n",
      "\u001b[0;31mNameError\u001b[0m: name 'argparse' is not defined"
     ]
    }
   ],
   "source": [
    "parser = argparse.ArgumentParser(description='Enlish to French translator.')\n",
    "subparsers = parser.add_subparsers()\n",
    "stranslate = subparsers.add_parser('translate', aliases=['t'])\n",
    "stranslate.add_argument('text', help='English text file')\n",
    "stranslate.set_defaults(which='translate')\n",
    "\n",
    "learn = subparsers.add_parser('learn', aliases=['l'])\n",
    "learn.add_argument('X', help='learning input (English)')\n",
    "learn.add_argument('Y', help='learning output (French)')\n",
    "learn.add_argument('-vs', '--vocab_size', help='vocabulary size (default=0 if vocab.txt should stay unchanged)', type=int, default=0)\n",
    "learn.add_argument('-lcn', '--layer_cell_number', help='number of cells in a layer', type=int, default=1000)\n",
    "learn.set_defaults(which='learn')\n",
    "\n",
    "print(\"Reading input\")\n",
    "args=vars(parser.parse_args())\n",
    "\n",
    "if args['which'] == 'translate':\n",
    "    translate(args['text'])\n",
    "else:\n",
    "    print(\"Learning - train & test\")\n",
    "    model=learning(args['X'], args['Y'], args['vocab_size'], args['layer_cell_number'])\n",
    "    print(\"Saving model\")\n",
    "    save_model(model)\n"
   ]
  }
 ],
 "metadata": {
  "kernelspec": {
   "display_name": "Python 3",
   "language": "python",
   "name": "python3"
  },
  "language_info": {
   "codemirror_mode": {
    "name": "ipython",
    "version": 3
   },
   "file_extension": ".py",
   "mimetype": "text/x-python",
   "name": "python",
   "nbconvert_exporter": "python",
   "pygments_lexer": "ipython3",
   "version": "3.6.2"
  }
 },
 "nbformat": 4,
 "nbformat_minor": 2
}
